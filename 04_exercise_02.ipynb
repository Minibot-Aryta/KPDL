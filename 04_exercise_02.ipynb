{
  "cells": [
    {
      "cell_type": "markdown",
      "id": "154c8525-a8b1-4532-8b8c-a6048596e61b",
      "metadata": {
        "id": "154c8525-a8b1-4532-8b8c-a6048596e61b"
      },
      "source": [
        "# Kỹ thuật lập trình Python"
      ]
    },
    {
      "cell_type": "markdown",
      "id": "bff7ceae-0971-41e5-9ad6-a25c303fecab",
      "metadata": {
        "id": "bff7ceae-0971-41e5-9ad6-a25c303fecab"
      },
      "source": [
        "## Làm quen với Numpy"
      ]
    },
    {
      "cell_type": "markdown",
      "id": "bda2fb69-42db-4a12-8b57-7b4815510961",
      "metadata": {
        "id": "bda2fb69-42db-4a12-8b57-7b4815510961"
      },
      "source": [
        "### Bài 1. Tính toán trên dãy số"
      ]
    },
    {
      "cell_type": "markdown",
      "id": "04e6a456-6793-4645-b159-426121c860a6",
      "metadata": {
        "id": "04e6a456-6793-4645-b159-426121c860a6"
      },
      "source": [
        "#### 1. Tạo một dãy số a có N phần tử (N = 10)"
      ]
    },
    {
      "cell_type": "code",
      "execution_count": 4,
      "id": "bac1a84b-a496-40c6-962e-97c0acaf7d8e",
      "metadata": {
        "id": "bac1a84b-a496-40c6-962e-97c0acaf7d8e",
        "outputId": "6bcd3578-0212-4f61-8f4d-9e8c3cf59196"
      },
      "outputs": [
        {
          "name": "stdout",
          "output_type": "stream",
          "text": [
            "1. Tạo một dãy số a có N phần tử (N = 10)\n",
            "Day so a:  [141 182 131 151 149 121 175 187 182 177]\n"
          ]
        }
      ],
      "source": [
        "import numpy as np # Khai báo thư viện numpy\n",
        "\n",
        "print(\"1. Tạo một dãy số a có N phần tử (N = 10)\")\n",
        "N = 10\n",
        "a = np.random.randint(120, 200, size=N)\n",
        "print(\"Day so a: \", a)"
      ]
    },
    {
      "cell_type": "markdown",
      "id": "4d85d8e2-16ff-42d1-acda-97e62736aaf6",
      "metadata": {
        "id": "4d85d8e2-16ff-42d1-acda-97e62736aaf6"
      },
      "source": [
        "#### 2. Các thao tác trên dãy số a\n",
        "(a) Bình phương các phần tử trong dãy số <br/>\n",
        "(b) Tìm số lượng các phần tử của dãy số <br/>\n",
        "(c) In ra giá trị lớn nhất, giá trị nhỏ nhất và giá trị trung bình <br/>\n",
        "(d) Tính phương sai của dãy số $\\sigma^2 = \\frac{\\sum{\\left(a_i - \\mu\\right)^2}}{N - 1}$ với $\\mu = \\frac{\\sum{a_i}}{N}$ và độ lệch chuẩn $var = \\sqrt{\\sigma^2}$"
      ]
    },
    {
      "cell_type": "code",
      "execution_count": 5,
      "id": "5d245b5b-90d5-48bf-b870-fc7c2deecd12",
      "metadata": {
        "id": "5d245b5b-90d5-48bf-b870-fc7c2deecd12",
        "outputId": "0fb2d498-a6cb-451f-ce88-abf2564949ed"
      },
      "outputs": [
        {
          "name": "stdout",
          "output_type": "stream",
          "text": [
            "2. Các thao tác tính toán đơn giản với dãy số a\n",
            "a. Binh phuong a:  [19881 33124 17161 22801 22201 14641 30625 34969 33124 31329]\n",
            "\n",
            "b. Do dai a:  10\n",
            "\n",
            "c. Gia tri lon nhat: [187], gia tri nho nhat: [121], gia tri trung binh [159.6]\n",
            "\n",
            "d. Phuong sai: [ 570.49] va do lech chuan: [ 23.88]\n"
          ]
        }
      ],
      "source": [
        "print(\"2. Các thao tác tính toán đơn giản với dãy số a\")\n",
        "a2 = a**2\n",
        "na = a.size\n",
        "print(\"a. Binh phuong a: \", a2)\n",
        "print(\"\\nb. Do dai a: \", na)\n",
        "\n",
        "v_max = np.max(a)\n",
        "v_min = np.min(a)\n",
        "v_avg = np.mean(a)\n",
        "\n",
        "print(f'\\nc. Gia tri lon nhat: [{v_max}], gia tri nho nhat: [{v_min}], gia tri trung binh [{v_avg}]')\n",
        "\n",
        "v_sigma2 = np.var(a, ddof=1) \n",
        "v_var = np.sqrt(v_sigma2) \n",
        "\n",
        "print(f'\\nd. Phuong sai: [{v_sigma2: .2f}] va do lech chuan: [{v_var: .2f}]')"
      ]
    },
    {
      "cell_type": "markdown",
      "id": "1b582e22-cc99-4933-892b-e0d83672fb7f",
      "metadata": {
        "id": "1b582e22-cc99-4933-892b-e0d83672fb7f"
      },
      "source": [
        "#### 3. Toán tử trên hai dãy số\n",
        "(a) Tạo dãy số x có 10 phần tử từ 1 đến 10 (dùng hàm np.arange) <br/>\n",
        "(b) Liệt kê và đếm số lượng phần tử chẵn và lẻ có trong dãy a và x <br/>\n",
        "(c) Tính khoảng cách giữa các phần tử ở vị trí lẻ của mảng a và x với $s = \\sqrt{\\sum{\\left(a_i - x_i\\right)^2}}$ với $i$ lẻ<br/>\n",
        "(d) Tìm khoảng cách nhỏ nhất giữa tập a và x. Ví dụ: min({1, 3, 5}, {2, 10, 8}} = 1"
      ]
    },
    {
      "cell_type": "code",
      "execution_count": 6,
      "id": "1c6f51c1-ac3d-46a8-ab35-0d087877fb9d",
      "metadata": {
        "id": "1c6f51c1-ac3d-46a8-ab35-0d087877fb9d",
        "outputId": "d821cb18-4881-4158-828a-a848ed18ca0d"
      },
      "outputs": [
        {
          "name": "stdout",
          "output_type": "stream",
          "text": [
            "3. Xử lý khác trên dãy số\n",
            "a. Day so x: [ 1  2  3  4  5  6  7  8  9 10]\n"
          ]
        }
      ],
      "source": [
        "print(\"3. Xử lý khác trên dãy số\")\n",
        "import numpy as np\n",
        "x = np.arange(1, 11)\n",
        "\n",
        "print(f'a. Day so x: {x}')"
      ]
    },
    {
      "cell_type": "code",
      "execution_count": null,
      "id": "f15d9e1a",
      "metadata": {},
      "outputs": [
        {
          "name": "stdout",
          "output_type": "stream",
          "text": [
            "\n",
            "b. Cac phan tu chan trong day a: \n",
            "Day a: [141 182 131 151 149 121 175 187 182 177]\n",
            "Loc chan: [182 182]\n",
            "Day chua phan tu chan trong a: [182 182], so luong 2 phan tu.\n",
            "\n",
            "Cac phan tu le trong day x: \n",
            "Day x: [ 1  2  3  4  5  6  7  8  9 10]\n",
            "Loc le: [1 3 5 7 9]\n",
            "Day chua phan tu le trong x: [1 3 5 7 9], so luong 5 phan tu.\n",
            "\n",
            "c. Khoang cach s giua phan tu vi tri le cua a va x: 356.60\n",
            "\n",
            "d. Khoang cach nho nhat giua tap a va x: 111\n"
          ]
        }
      ],
      "source": [
        "# (b) Liệt kê và đếm số lượng phần tử chẵn và lẻ có trong dãy a và x\n",
        "a_chan = a[a % 2 == 0]\n",
        "a_le = a[a % 2 != 0]\n",
        "x_chan = x[x % 2 == 0]\n",
        "x_le = x[x % 2 != 0]\n",
        "\n",
        "print(\"\\nb. Cac phan tu chan trong day a: \")\n",
        "print(f\"Day a: {a}\")\n",
        "print(f\"Loc chan: {a_chan}\")\n",
        "print(f\"Day chua phan tu chan trong a: {a_chan}, so luong {len(a_chan)} phan tu.\")\n",
        "\n",
        "print(\"\\nCac phan tu le trong day x: \")\n",
        "print(f\"Day x: {x}\")\n",
        "print(f\"Loc le: {x_le}\")\n",
        "print(f\"Day chua phan tu le trong x: {x_le}, so luong {len(x_le)} phan tu.\")\n",
        "\n",
        "\n",
        "# (c) Tính khoảng cách giữa các phần tử ở vị trí lẻ của mảng a và x\n",
        "a_odd_indices = a[1::2]\n",
        "x_odd_indices = x[1::2]\n",
        "\n",
        "# Tính khoảng cách s = sqrt(Sigma (a_i - x_i)^2)\n",
        "s = np.sqrt(np.sum((a_odd_indices - x_odd_indices)**2))\n",
        "print(f\"\\nc. Khoang cach s giua phan tu vi tri le cua a va x: {s:.2f}\")\n",
        "\n",
        "\n",
        "# (d) Tìm khoảng cách nhỏ nhất giữa tập a và x\n",
        "distance_matrix = np.abs(a[:, np.newaxis] - x)\n",
        "\n",
        "# Tìm giá trị nhỏ nhất trong ma trận khoảng cách\n",
        "min_distance = np.min(distance_matrix)\n",
        "print(f\"\\nd. Khoang cach nho nhat giua tap a va x: {min_distance}\")"
      ]
    },
    {
      "cell_type": "markdown",
      "id": "d18845b8-0d51-4666-ba1c-5ff836ef3d54",
      "metadata": {
        "id": "d18845b8-0d51-4666-ba1c-5ff836ef3d54"
      },
      "source": [
        "#### 4. Sinh ngẫu nhiên dãy số\n",
        "(a) Sinh ngẫu nhiên dãy số có 100 phần tử theo phân bố đều với giá trị trong đoạn [1, 10] và vẽ đồ thị tần số xuất hiện <br/>\n",
        "(b) Sinh ngẫu nhiên N diem (x, y) với y là hàm phân phối chuẩn $N(\\mu = 1, \\sigma^2 = 1.0)$: <br/>\n",
        " $$\n",
        " y = f\\left(x| \\mu, \\sigma\\right) = \\frac{1}{\\sigma\\sqrt{2\\pi}}exp\\left(-\\frac{\\left(x - \\mu\\right)^2}{2\\sigma^2}\\right)\n",
        " $$\n",
        " nơi mà $x \\in [\\mu - 5\\sigma, \\mu + 5\\sigma]$ <br/>\n",
        " (c) Sinh ngẫu nhiên dãy số có 100000 phần tử theo phân bố chuẩn $N(\\mu = 1, \\sigma^2 = 1.0)$ và vẽ đồ thị tần số xuất hiện <br/> <br/>"
      ]
    },
    {
      "cell_type": "code",
      "execution_count": null,
      "id": "4d35cd9c-3163-486e-baef-63180ff2f5b6",
      "metadata": {
        "id": "4d35cd9c-3163-486e-baef-63180ff2f5b6",
        "outputId": "c736cdd8-2624-4d0e-c51b-2d88007917e2"
      },
      "outputs": [
        {
          "name": "stdout",
          "output_type": "stream",
          "text": [
            "a. Sinh ngẫu nhiên theo phân bố đều\n",
            "+ Gia tri: [ 1  2  3  4  5  6  7  8  9 10]\n",
            "+ So lan xuat hien: [1038 1018  941 1052 1048  949  933  991 1018 1012]\n",
            "+ Do thi ham so xuat hien\n"
          ]
        },
        {
          "data": {
            "image/png": "[encoded data removed]",
            "text/plain": [
              "<Figure size 600x600 with 1 Axes>"
            ]
          },
          "metadata": {},
          "output_type": "display_data"
        }
      ],
      "source": [
        "import matplotlib.pyplot as plt  # Khai báo thư viện pyplot trong matplotlib\n",
        "\n",
        "\n",
        "N = 10000 \n",
        "data = np.random.randint(1, 11, size=N) \n",
        "\n",
        "value, cnt = np.unique(data, return_counts=True)\n",
        "\n",
        "print(\"a. Sinh ngẫu nhiên theo phân bố đều\")\n",
        "print(f\"+ Gia tri: {value}\")\n",
        "print(f\"+ So lan xuat hien: {cnt}\")\n",
        "print(\"+ Do thi ham so xuat hien\")\n",
        "plt.figure(figsize=(6,6))      #  kich thuoc ban ve\n",
        "plt.bar(value, cnt)            #  ve cac khoi chu nhat theo day x, y\n",
        "plt.xlim(0, 11)                #  gioi han truc x\n",
        "plt.ylim(0, np.max(cnt) + 10)  #  gioi han truc y\n",
        "plt.savefig(\"4a.png\")          #  luu do thi\n",
        "plt.show()                     #  hien thi do thi"
      ]
    },
    {
      "cell_type": "code",
      "execution_count": 13,
      "id": "55c99911-a213-4961-85b7-2ef09b775945",
      "metadata": {
        "id": "55c99911-a213-4961-85b7-2ef09b775945",
        "outputId": "7b5cfb63-6adf-44bc-d55f-c937f674bf4e"
      },
      "outputs": [
        {
          "name": "stdout",
          "output_type": "stream",
          "text": [
            "b. Sinh cặp (x, y) với y làm hàm phân phối chuẩn\n",
            "+ x: 0.0 <= min [ 0.01] <= max [ 9.96] <= 10.0\n",
            "+ Ve ham so y(x)\n"
          ]
        },
        {
          "data": {
            "image/png": "[encoded data removed]",
            "text/plain": [
              "<Figure size 600x600 with 1 Axes>"
            ]
          },
          "metadata": {},
          "output_type": "display_data"
        }
      ],
      "source": [
        "N = 100\n",
        "mu = 5.0\n",
        "sigma = 1.5\n",
        "x_min = 0.0\n",
        "x_max = 10.0\n",
        "\n",
        "# Sinh dãy số ngẫu nhiên x theo phân bố đều trong khoảng [x_min, x_max)\n",
        "x = np.random.rand(N) * (x_max - x_min) + x_min\n",
        "\n",
        "# Tính hàm mật độ xác suất chuẩn (y)\n",
        "y = (1 / (sigma * np.sqrt(2 * np.pi))) * np.exp(-0.5 * ((x - mu) / sigma)**2)\n",
        "\"\"\" HẾT PHẦN BỔ SUNG \"\"\"\n",
        "\n",
        "print(\"b. Sinh cặp (x, y) với y làm hàm phân phối chuẩn\")\n",
        "print(f\"+ x: {x_min} <= min [{np.min(x): .2f}] <= max [{np.max(x): .2f}] <= {x_max}\")\n",
        "print(f\"+ Ve ham so y(x)\")\n",
        "plt.figure(figsize=(6,6))      # kich thuoc ban ve\n",
        "plt.scatter(x, y)              # ve cac diem (xi, yi)\n",
        "plt.savefig(\"4b.png\")          #  luu do thi\n",
        "plt.show()                     #  hien thi do thi"
      ]
    },
    {
      "cell_type": "code",
      "execution_count": 16,
      "id": "0b4cf743-6afa-47da-8d3e-61f84623c707",
      "metadata": {
        "id": "0b4cf743-6afa-47da-8d3e-61f84623c707",
        "outputId": "727e6d7f-9f6c-4ded-dcbd-b821b2e012dc"
      },
      "outputs": [
        {
          "name": "stdout",
          "output_type": "stream",
          "text": [
            "c. Sinh day so theo phan phoi chuan\n",
            "+ x: len = 100000, min [-1.2468970474272352], max [11.419423680290546]\n",
            "+ Mat so xac suat cua day so x\n"
          ]
        },
        {
          "data": {
            "image/png": "[encoded data removed]",
            "text/plain": [
              "<Figure size 600x600 with 1 Axes>"
            ]
          },
          "metadata": {},
          "output_type": "display_data"
        }
      ],
      "source": [
        "N = 100000 \n",
        "mu = 5.0\n",
        "sigma = 1.5\n",
        "bins = 300 \n",
        "\n",
        "x_standard = np.random.randn(N)\n",
        "x = mu + sigma * x_standard\n",
        "\n",
        "cnt, bins_edges = np.histogram(x, bins=bins, density=True)\n",
        "\n",
        "# Tính giá trị trung tâm của mỗi bin (val) để vẽ đồ thị\n",
        "val = (bins_edges[:-1] + bins_edges[1:]) / 2\n",
        "print( \"c. Sinh day so theo phan phoi chuan\")\n",
        "print(f\"+ x: len = {len(x)}, min [{np.min(x)}], max [{np.max(x)}]\")\n",
        "print(f\"+ Mat so xac suat cua day so x\")\n",
        "plt.figure(figsize=(6,6))      # kich thuoc ban ve\n",
        "plt.xlim(np.min(val), np.max(val))\n",
        "plt.scatter(val, cnt)\n",
        "plt.show()"
      ]
    },
    {
      "cell_type": "markdown",
      "id": "4f1a6dde-3e75-4dc7-8bab-40b7b9e17091",
      "metadata": {
        "id": "4f1a6dde-3e75-4dc7-8bab-40b7b9e17091"
      },
      "source": [
        "### Bài 2. Tính toán trên ma trận"
      ]
    },
    {
      "cell_type": "markdown",
      "id": "8ce5c9f7-de68-44cf-a1ce-950822c408d3",
      "metadata": {
        "id": "8ce5c9f7-de68-44cf-a1ce-950822c408d3"
      },
      "source": [
        "#### 1. Tạo ma trận a có M = 6 dòng, N = 4 cột"
      ]
    },
    {
      "cell_type": "code",
      "execution_count": 17,
      "id": "17b1f09d-11c7-4711-8b40-f67abd54323e",
      "metadata": {
        "id": "17b1f09d-11c7-4711-8b40-f67abd54323e",
        "outputId": "066eac64-eb48-4d53-daee-7cb5859c09eb"
      },
      "outputs": [
        {
          "name": "stdout",
          "output_type": "stream",
          "text": [
            "Ma trận a: \n",
            " [[179 133 140 180]\n",
            " [167 186 143 183]\n",
            " [150 175 195 153]\n",
            " [149 156 194 131]\n",
            " [174 139 168 109]\n",
            " [179 128 183 186]]\n"
          ]
        }
      ],
      "source": [
        "a = np.random.randint(100, 200, (6, 4))\n",
        "\"\"\" CÁC BẠN LÀM BÀI Ở ĐÂY \"\"\"\n",
        "# ...\n",
        "\n",
        "print(\"Ma trận a: \\n\", a)"
      ]
    },
    {
      "cell_type": "markdown",
      "id": "8bc353b9-1740-4e94-b779-eae046171142",
      "metadata": {
        "id": "8bc353b9-1740-4e94-b779-eae046171142"
      },
      "source": [
        "#### 2. Các thao tác trên ma trận a\n",
        "(a) In ra ma trận chuyển vị <br/>\n",
        "(b) In ra phần tử ở vị trí dòng 2 cột 3 <br/>\n",
        "(c) Trích xuất dòng đầu, dòng cuối, dòng 2 <br/>\n",
        "(d) Trích xuất cột kế cuối, cột đầu <br/>\n",
        "(e) Đảo các giá trị trên từng cột <br/>\n",
        "(f) Tính tổng các dòng, trung bình các cột <br/>"
      ]
    },
    {
      "cell_type": "code",
      "execution_count": 18,
      "id": "5236b916-3dda-4444-8004-9a6ab8d80df4",
      "metadata": {
        "id": "5236b916-3dda-4444-8004-9a6ab8d80df4",
        "outputId": "342c36f0-0719-4e1e-f5d8-9a31bec1ed7e"
      },
      "outputs": [
        {
          "name": "stdout",
          "output_type": "stream",
          "text": [
            "a. In ra ma trận chuyển vị: \n",
            "[[179 167 150 149 174 179]\n",
            " [133 186 175 156 139 128]\n",
            " [140 143 195 194 168 183]\n",
            " [180 183 153 131 109 186]]\n",
            "\n",
            "b. In ra phần tử ở vị trí dòng 2 cột 3: 143\n",
            "\n",
            "c. Trích xuất các dòng: \n",
            "   + Dòng đầu : [179 133 140 180]\n",
            "   + Dòng cuối: [179 128 183 186]\n",
            "   + Dòng hai : [167 186 143 183]\n",
            "\n",
            "d. Trích xuất các cột: \n",
            "   + Cột kế cuối: [140 143 195 194 168 183]\n",
            "   + Cột đầu: [179 167 150 149 174 179]\n",
            "\n",
            "e. Đảo các giá trị trên từng cột: \n",
            " [[179 128 183 186]\n",
            " [174 139 168 109]\n",
            " [149 156 194 131]\n",
            " [150 175 195 153]\n",
            " [167 186 143 183]\n",
            " [179 133 140 180]]\n",
            "\n",
            "f. Phép tính theo trục:\n",
            "   + Tổng dòng: [632 679 673 630 590 676]\n",
            "   + Trung bình cột: [166.33333333 152.83333333 170.5        157.        ]\n"
          ]
        }
      ],
      "source": [
        "a_t = a.T\n",
        "\n",
        "v_23 = a[1, 2] \n",
        "\n",
        "d_0 = a[0, :]\n",
        "# Dòng cuối: index -1\n",
        "d_last = a[-1, :]\n",
        "# Dòng hai: index 1\n",
        "d_2 = a[1, :]\n",
        "\n",
        "# (d) Trích xuất cột kế cuối, cột đầu\n",
        "# Cột kế cuối: index -2 (hoặc index 2 vì có 4 cột)\n",
        "c_l1 = a[:, -2] \n",
        "# Cột đầu: index 0\n",
        "c_0 = a[:, 0] \n",
        "\n",
        "# (e) Đảo các giá trị trên từng cột\n",
        "# Lệnh đảo theo chiều dọc: [:: -1] trên trục 0\n",
        "dao_cot = a[::-1, :]\n",
        "\n",
        "# (f) Tính tổng các dòng, trung bình các cột\n",
        "# Tổng các dòng (axis=1)\n",
        "tong_dong = a.sum(axis=1)\n",
        "# Trung bình các cột (axis=0)\n",
        "tb_cot = a.mean(axis=0)\n",
        "\n",
        "print(f\"a. In ra ma trận chuyển vị: \\n{a_t}\")\n",
        "print(f\"\\nb. In ra phần tử ở vị trí dòng 2 cột 3: {v_23}\")\n",
        "print(f\"\\nc. Trích xuất các dòng: \")\n",
        "print(f\"   + Dòng đầu : {d_0}\")\n",
        "print(f\"   + Dòng cuối: {d_last}\")\n",
        "print(f\"   + Dòng hai : {d_2}\")\n",
        "print(f\"\\nd. Trích xuất các cột: \")\n",
        "print(f\"   + Cột kế cuối: {c_l1}\")\n",
        "print(f\"   + Cột đầu: {c_0}\")\n",
        "print(f\"\\ne. Đảo các giá trị trên từng cột: \\n {dao_cot}\")\n",
        "print(f\"\\nf. Phép tính theo trục:\")\n",
        "print(f\"   + Tổng dòng: {tong_dong}\")\n",
        "print(f\"   + Trung bình cột: {tb_cot}\")"
      ]
    },
    {
      "cell_type": "markdown",
      "id": "bca46803-13a7-4324-b719-0bffd7110119",
      "metadata": {
        "id": "bca46803-13a7-4324-b719-0bffd7110119"
      },
      "source": [
        "#### 3. Các toán tử trên hai ma trận\n",
        "(a) Tạo hai ma trận A và B có 4 dòng x 3 cột và X có 3 dòng x 4 cột <br/>\n",
        "(b) Tính tổng, hiệu, tích của từng phần tử trên hai ma trận A và B <br/>\n",
        "(c) Tính phép nhân ma trận Y = A x X"
      ]
    },
    {
      "cell_type": "code",
      "execution_count": null,
      "id": "86d9c4ed-e86c-4baf-b51b-9dbd20e5c3cb",
      "metadata": {
        "id": "86d9c4ed-e86c-4baf-b51b-9dbd20e5c3cb",
        "outputId": "269b1130-aac2-476a-f6ad-ea494dc223a0"
      },
      "outputs": [
        {
          "name": "stdout",
          "output_type": "stream",
          "text": [
            "a. Tạo hai ma trận A và B có 4 dòng x 3 cột và X có 3 dòng x 4 cột\n",
            "+ Ma tran A: \n",
            "[[6 7 9]\n",
            " [9 6 7]\n",
            " [7 8 6]\n",
            " [8 9 1]]\n",
            "+ Ma tran B: \n",
            "[[9 5 5]\n",
            " [1 1 6]\n",
            " [2 2 2]\n",
            " [9 7 1]]\n",
            "+ Ma tran X: \n",
            "[[5 3 6 5]\n",
            " [4 9 3 9]\n",
            " [7 1 7 4]]\n",
            "\n",
            "b. Tính tổng, hiệu, tích của từng phần tử trên hai ma trận A và B\n",
            "A + B = \n",
            "[[15 12 14]\n",
            " [10  7 13]\n",
            " [ 9 10  8]\n",
            " [17 16  2]]\n",
            "A - B = \n",
            "[[-3  2  4]\n",
            " [ 8  5  1]\n",
            " [ 5  6  4]\n",
            " [-1  2  0]]\n",
            "A . B = \n",
            "[[54 35 45]\n",
            " [ 9  6 42]\n",
            " [14 16 12]\n",
            " [72 63  1]]\n",
            "\n",
            "c. Tính phép nhân ma trận Y = A x X\n",
            "Y = A x X --> shape A ((4, 3)) x shape X ((3, 4)) = shape Y ((4, 4)) \n",
            "[[121  90 120 129]\n",
            " [118  88 121 127]\n",
            " [109  99 108 131]\n",
            " [ 83 106  82 125]]\n"
          ]
        }
      ],
      "source": [
        "\n",
        "A = np.random.randint(1, 10, (4, 3)) # 4x3\n",
        "B = np.random.randint(1, 10, (4, 3)) # 4x3\n",
        "X = np.random.randint(1, 10, (3, 4)) # 3x4\n",
        "\n",
        "\n",
        "AB_add = A + B   \n",
        "AB_sub = A - B   \n",
        "AB_mul = A * B   \n",
        "\n",
        "\n",
        "Y = np.dot(A, X)     \n",
        "\n",
        "print(\"a. Tạo hai ma trận A và B có 4 dòng x 3 cột và X có 3 dòng x 4 cột\")\n",
        "print(f\"+ Ma tran A: \\n{A}\")\n",
        "print(f\"+ Ma tran B: \\n{B}\")\n",
        "print(f\"+ Ma tran X: \\n{X}\")\n",
        "\n",
        "print(\"\\nb. Tính tổng, hiệu, tích của từng phần tử trên hai ma trận A và B\")\n",
        "print(f\"A + B = \\n{AB_add}\")\n",
        "print(f\"A - B = \\n{AB_sub}\")\n",
        "print(f\"A . B = \\n{AB_mul}\")\n",
        "\n",
        "print(\"\\nc. Tính phép nhân ma trận Y = A x X\")\n",
        "print(f\"Y = A x X --> shape A ({A.shape}) x shape X ({X.shape}) = shape Y ({Y.shape}) \\n{Y}\")"
      ]
    },
    {
      "cell_type": "markdown",
      "id": "43602379-f77d-44ba-b2e3-23f85c6bcf5a",
      "metadata": {
        "id": "43602379-f77d-44ba-b2e3-23f85c6bcf5a"
      },
      "source": [
        "#### 4. Giải hệ phương trình tuyến tính\n",
        "Giải hệ phương trình tuyến tính sau:\n",
        "$$\n",
        "\\left\\{\\begin{matrix}\n",
        "        4x_1  + 3x_2 - 5x_3 = 2 \\\\\n",
        "        -2x_1 - 4x_2 + 5x_3 = 5 \\\\\n",
        "        8x_1 + 8x_2 = -3 \\\\\n",
        "\\end{matrix}\\right.\n",
        "$$"
      ]
    },
    {
      "cell_type": "code",
      "execution_count": 21,
      "id": "53db2e93-fcbe-49f6-a4dd-482d22bcda54",
      "metadata": {
        "id": "53db2e93-fcbe-49f6-a4dd-482d22bcda54",
        "outputId": "ddd0b1fc-4cff-448d-f974-329b6b9c9f5d"
      },
      "outputs": [
        {
          "name": "stdout",
          "output_type": "stream",
          "text": [
            "+ Ma tran A: \n",
            "[[ 4  3 -5]\n",
            " [-2 -4  5]\n",
            " [ 8  8  0]]\n",
            "+ Vector y: [ 2  5 -3]\n",
            "+ Nghiem x: [ 2.20833333 -2.58333333 -0.18333333]\n",
            "+ Kiem tra: yy = Ax = [ 2.  5. -3.] ==> ||yy -y ||_2 =  0.00\n"
          ]
        }
      ],
      "source": [
        "# Định nghĩa Ma trận hệ số A (Matrix of coefficients)\n",
        "A = np.array([\n",
        "    [4, 3, -5],\n",
        "    [-2, -4, 5],\n",
        "    [8, 8, 0]\n",
        "])\n",
        "\n",
        "y = np.array([2, 5, -3])\n",
        "\n",
        "x = np.linalg.solve(A, y)\n",
        "\n",
        "yy = A @ x\n",
        "\n",
        "diff = np.linalg.norm(yy - y)\n",
        "print(f\"+ Ma tran A: \\n{A}\")\n",
        "print(f\"+ Vector y: {y}\")\n",
        "print(f\"+ Nghiem x: {x}\")\n",
        "print(f\"+ Kiem tra: yy = Ax = {yy} ==> ||yy -y ||_2 = {diff: .2f}\")"
      ]
    },
    {
      "cell_type": "markdown",
      "id": "526b7e20-beca-4087-9cab-02ccc0a8f856",
      "metadata": {
        "id": "526b7e20-beca-4087-9cab-02ccc0a8f856"
      },
      "source": [
        "## Bài tập áp dụng"
      ]
    },
    {
      "cell_type": "markdown",
      "id": "9ee067fb-2045-4d3e-b504-ff4a8c3dcf37",
      "metadata": {
        "id": "9ee067fb-2045-4d3e-b504-ff4a8c3dcf37"
      },
      "source": [
        "### Bài 3. Tính gần đúng số pi dùng phương pháp Monte Carlo\n",
        "\n",
        "Vẽ một đường tròn $C$ có bán kính $r$ nội tiếp một hình vuông $C$, và đặt ngẫu nhiên $N$ chấm lên hình vuông. Tỉ lệ các chấm nằm trong hình tròn trên tổng số chấm xấp xỉ bằng diện tích của hình tròn chia cho hình vuông như sau:\n",
        "$$\n",
        "\\frac{N_C}{N} \\approx  \\frac{\\mathbb{S}_C}{\\mathbb{S}_N}\n",
        "$$\n",
        "nơi mà $N_C$ là các chấm trong hình tròn, $N$ là tổng số chấm, $\\mathbb{S}_C$ và $\\mathbb{S}_N$ lần lượt là diện tích của hình tròn và hình vuông.\n",
        "$$ \\mathbb{S}_C = \\pi * r^2 $$\n",
        "$$ \\mathbb{S}_N = (2*r)^2 = 4r^2 $$\n",
        "Do đó, công thức trên trở thành:\n",
        "$$\n",
        "\\frac{N_C}{N} \\approx \\frac{\\pi * r^2}{4r^2} = \\frac{\\pi}{4}\n",
        "$$\n",
        "Suy ra, ta có giá trị số $\\pi$ được tính như sau:\n",
        "$$\n",
        "\\pi \\approx \\frac{4N_C}{N}\n",
        "$$\n",
        "\n",
        "Các bạn hãy lập trình tính sấp xỉ số $\\pi$ dùng phương pháp Monte Carlo. Cho biết các sai số với $N = 100$, $N = 10000$, và $N = 1000000$. Vẽ đồ thị minh họa cho chương trình.\n",
        "\n",
        "**Hướng dẫn**: Viết chương trình phát sinh $N$ điểm $(x_i, y_i)$ với $x_i, y_i \\in [-1, -1]$. $(x_i, y_i)$ thuộc hình tròn tâm $(0, 0)$ bán kính 1 nội tiếp hình vuông có tâm tại $(0, 0)$ độ dài cạnh 2 khi và chỉ khi $x_i^2 + y_i^2 <= 1$."
      ]
    },
    {
      "cell_type": "code",
      "execution_count": null,
      "id": "793640f7-4ba5-4d27-9d52-a65f4c25a5b0",
      "metadata": {
        "id": "793640f7-4ba5-4d27-9d52-a65f4c25a5b0",
        "outputId": "f4f2ef9f-30f6-4f6d-8640-2b32c8fc86b8"
      },
      "outputs": [
        {
          "data": {
            "image/png": "[encoded data removed]",
            "text/plain": [
              "<Figure size 432x432 with 1 Axes>"
            ]
          },
          "metadata": {
            "needs_background": "light"
          },
          "output_type": "display_data"
        }
      ],
      "source": [
        "import matplotlib.pyplot as plt # khai báo thư viện vẽ pyplot\n",
        "import math\n",
        "\n",
        "circle = plt.Circle((0, 0), 1, color='g') # tạo đối tượng vòng tròn\n",
        "\n",
        "fig, ax = plt.subplots(figsize=(6, 6)) # lấy figure và vùng vẽ\n",
        "\n",
        "plt.plot(0, 0, 'o', color=(0.9, 0.9, 1.0), alpha=0.8) # vẽ điểm tại tâm (0,0)\n",
        "ax.add_patch(circle) # thêm vòng tròn vào vùng vẽ\n",
        "\n",
        "x = 0.75; y = math.sqrt(1 - (x ** 2)) # (x = 0.75, y = căn bậc 2 của 1 - x^2)\n",
        "plt.arrow(0, 0, x, y)\n",
        "\n",
        "plt.xlim(-1, 1) # giới hạn trục x\n",
        "plt.ylim(-1, 1) # giới hạn trục y\n",
        "\n",
        "plt.savefig('pi.png') # lưu đồ thị xuống tập tin\n",
        "plt.show()            # hiển thị đồ thị"
      ]
    },
    {
      "cell_type": "code",
      "execution_count": null,
      "id": "bef335d2-9e51-4fa5-8843-aa1d67a607f0",
      "metadata": {
        "id": "bef335d2-9e51-4fa5-8843-aa1d67a607f0"
      },
      "outputs": [],
      "source": [
        "import numpy as np\n",
        "\n",
        "def calc_pi_monte_carlo(n = 100):\n",
        "    pi = 0\n",
        "\n",
        "    # gợi ý: sử dụng np.random.rand(s1, s2, ...) --> sinh ngẫu nhiên các số trong nửa đoạn [0.0, 1.0)\n",
        "    \"\"\" CÁC BẠN LÀM BÀI Ở ĐÂY \"\"\"\n",
        "    # ...\n",
        "\n",
        "    return pi\n",
        "# calc_pi_monte_carlo"
      ]
    },
    {
      "cell_type": "code",
      "execution_count": null,
      "id": "91071758-5957-497b-a5d1-2f2d17df6fae",
      "metadata": {
        "id": "91071758-5957-497b-a5d1-2f2d17df6fae",
        "outputId": "0acaa47d-a09e-4fcf-800c-bea0aa4d9ebe"
      },
      "outputs": [
        {
          "name": "stdout",
          "output_type": "stream",
          "text": [
            "epsilon(n=100):  0.17840734641020672\n",
            "epsilon(n=100):  0.33840734641020687\n",
            "epsilon(n=10000):  -0.02279265358979332\n",
            "epsilon(n=10000):  0.04240734641020705\n",
            "epsilon(n=1000000):  -0.0009246535897933228\n",
            "epsilon(n=1000000):  0.001139346410206965\n"
          ]
        }
      ],
      "source": [
        "import math\n",
        "\n",
        "print(\"epsilon(n=100): \", calc_pi_monte_carlo(n = 100) - math.pi)\n",
        "print(\"epsilon(n=100): \", calc_pi_monte_carlo(n = 100) - math.pi)\n",
        "print(\"epsilon(n=10000): \", calc_pi_monte_carlo(n = 10000) - math.pi)\n",
        "print(\"epsilon(n=10000): \", calc_pi_monte_carlo(n = 10000) - math.pi)\n",
        "print(\"epsilon(n=1000000): \", calc_pi_monte_carlo(n = 1000000) - math.pi)\n",
        "print(\"epsilon(n=1000000): \", calc_pi_monte_carlo(n = 1000000) - math.pi)"
      ]
    }
  ],
  "metadata": {
    "colab": {
      "provenance": []
    },
    "kernelspec": {
      "display_name": "Python 3",
      "language": "python",
      "name": "python3"
    },
    "language_info": {
      "codemirror_mode": {
        "name": "ipython",
        "version": 3
      },
      "file_extension": ".py",
      "mimetype": "text/x-python",
      "name": "python",
      "nbconvert_exporter": "python",
      "pygments_lexer": "ipython3",
      "version": "3.13.7"
    }
  },
  "nbformat": 4,
  "nbformat_minor": 5
}
