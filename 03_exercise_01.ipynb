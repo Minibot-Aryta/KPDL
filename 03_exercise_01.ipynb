{
  "cells": [
    {
      "cell_type": "markdown",
      "id": "9d3700c7-00aa-4206-805f-a2b5c35bc176",
      "metadata": {
        "id": "9d3700c7-00aa-4206-805f-a2b5c35bc176"
      },
      "source": [
        "# Cơ bản về ngôn ngữ lập trình Python\n",
        "\n",
        "**Cách gõ trong ô Markdown**\n",
        "\n",
        "Online Latex Equation: https://latex.codecogs.com/eqneditor/editor.php <br/>\n",
        "Online Table Markdown: https://www.tablesgenerator.com/ <br/>\n",
        "Jupyter Markdown Cheatsheet: https://tinyurl.com/2fuw833c\n",
        "\n",
        "\n",
        "**Tham khảo code Python**\n",
        "\n",
        "Python Tutorial: https://www.w3schools.com/python/default.asp"
      ]
    },
    {
      "cell_type": "markdown",
      "id": "2d158c9e-12a4-4b5a-b703-0aea2ff00d02",
      "metadata": {
        "id": "2d158c9e-12a4-4b5a-b703-0aea2ff00d02"
      },
      "source": [
        "## 1. Nhập/xuất, biểu thức tính toán"
      ]
    },
    {
      "cell_type": "markdown",
      "id": "3074dd2a-18b9-44b1-8019-faa237e4e8dd",
      "metadata": {
        "id": "3074dd2a-18b9-44b1-8019-faa237e4e8dd"
      },
      "source": [
        "### Bài 1. Tính giá trị hàm số\n",
        "**Yêu cầu**: Hãy viết chương trình nhập vào số thực x và tính giá trị biểu thức:\n",
        "$$\n",
        "    f\\left(x\\right) = x + \\frac{x^5}{5!} + \\frac{\\sqrt{|x|}}{x^{3/2}}\n",
        "$$\n",
        "> Moi ban nhap vao gia tri cua bien so x: **2.3** <br/>\n",
        "> Gia tri cua ham so f(**2.3**) = **3.27**."
      ]
    },
    {
      "cell_type": "code",
      "execution_count": 8,
      "id": "66e97cd7-47a3-4011-8912-27ef003c4479",
      "metadata": {
        "id": "66e97cd7-47a3-4011-8912-27ef003c4479",
        "outputId": "29797563-cff7-46f2-db36-138adeec2741"
      },
      "outputs": [
        {
          "name": "stdout",
          "output_type": "stream",
          "text": [
            "Gia tri cua ham so f(2.3) =  3.27.\n"
          ]
        }
      ],
      "source": [
        "# Khai báo thư viện\n",
        "import math\n",
        "\n",
        "# Nhập dữ liệu\n",
        "x   = float(input('Moi ban nhap vao gia tri cua bien so x: '))\n",
        "# Xử lý\n",
        "if x <= 0:\n",
        "    print(\"Lỗi: Giá trị x phải lớn hơn 0 để hàm số được xác định trong tập số thực.\")\n",
        "    f_x = None\n",
        "else:\n",
        "    f_x = x + (x**5 / math.factorial(5)) + (1 / x)\n",
        "\n",
        "# Xuất dữ liệu\n",
        "print(f'Gia tri cua ham so f({x}) = {f_x: .2f}.')"
      ]
    },
    {
      "cell_type": "markdown",
      "id": "239686a9-b07b-49cf-865f-848481810cf1",
      "metadata": {
        "id": "239686a9-b07b-49cf-865f-848481810cf1",
        "tags": []
      },
      "source": [
        "### Bài 2. Đổi sang giờ phút giây\n",
        "Một thiết bị hoạt động được t giây. Hãy viết chương trình chuyển số giây đó dưới dạng số giờ, số phút và số giây.\n",
        ">Nhap vao tong so giay: **4810** <br/>\n",
        ">**4810** giay co dang **1:20:10**"
      ]
    },
    {
      "cell_type": "code",
      "execution_count": 9,
      "id": "ad9c7cc5-a62b-42aa-b19b-4383dc118098",
      "metadata": {
        "id": "ad9c7cc5-a62b-42aa-b19b-4383dc118098",
        "outputId": "98ed4810-1d8a-4934-ddb9-3d3c2baf3d6e"
      },
      "outputs": [
        {
          "name": "stdout",
          "output_type": "stream",
          "text": [
            "4810 giay co dang 1:20:10\n"
          ]
        }
      ],
      "source": [
        "# Nhập dữ liệu\n",
        "t  = int(input('Nhap vao tong so giay: '))\n",
        "\n",
        "# Xử lý\n",
        "hh = t // 3600\n",
        "remaining_seconds = t % 3600\n",
        "mm = remaining_seconds // 60\n",
        "ss = remaining_seconds % 60\n",
        "\n",
        "# Xuất dữ liệu\n",
        "print(f'{t} giay co dang {hh}:{mm}:{ss}')"
      ]
    },
    {
      "cell_type": "markdown",
      "id": "17d60c56-c83c-4126-8003-e2ccba7b52ce",
      "metadata": {
        "id": "17d60c56-c83c-4126-8003-e2ccba7b52ce"
      },
      "source": [
        "## 2. Cấu trúc lựa chọn"
      ]
    },
    {
      "cell_type": "markdown",
      "id": "76774c9e-de62-4c88-817d-b1c4928dc12d",
      "metadata": {
        "id": "76774c9e-de62-4c88-817d-b1c4928dc12d"
      },
      "source": [
        "### Bài 3. Giải phuơng trình bậc 1\n",
        "Nhập 2 số thực $a$, $b$. Tìm nghiệm của phương trình bậc 1 $ax + b = 0$.\n",
        ">Moi ban nhap he so a: **1** <br/>\n",
        ">Moi ban nhap he so b: **5** <br/>\n",
        ">Phuong trinh **1x + 5 = 0** co **1** nghiem x = **-5.00**."
      ]
    },
    {
      "cell_type": "code",
      "execution_count": 10,
      "id": "073e5194-32f7-4e30-af77-f8173f70da26",
      "metadata": {
        "id": "073e5194-32f7-4e30-af77-f8173f70da26",
        "outputId": "3d549ec9-4912-4ae1-9aa3-4526ceb61ab4"
      },
      "outputs": [
        {
          "name": "stdout",
          "output_type": "stream",
          "text": [
            "Phuong trinh 1x + 5 = 0 co 1 nghiem x = -5.00.\n"
          ]
        }
      ],
      "source": [
        "# Nhập dữ liệu\n",
        "a  = int(input('Moi ban nhap he so a: '))\n",
        "b  = int(input('Moi ban nhap he so b: '))\n",
        "\n",
        "# Xử lý\n",
        "if a == 0:\n",
        "    if b == 0:\n",
        "        flag = -1  # Vô số nghiệm\n",
        "    else:\n",
        "        flag = 0   # Vô nghiệm\n",
        "else:\n",
        "    flag = 1   # Có 1 nghiệm duy nhất\n",
        "    x = -b / a\n",
        "    \n",
        "# Xuất dữ liệu\n",
        "s = f'Phuong trinh {a}x + {b} = 0'\n",
        "if flag == -1:\n",
        "    print(f'{s} vo so nghiem.')\n",
        "elif flag == 0:\n",
        "    print(f'{s} vo nghiem.')\n",
        "else:\n",
        "    print(f'{s} co 1 nghiem x = {x: .2f}.')\n",
        "# if"
      ]
    },
    {
      "cell_type": "markdown",
      "id": "a865ace8-924e-47cc-8820-8c417d88b6ae",
      "metadata": {
        "id": "a865ace8-924e-47cc-8820-8c417d88b6ae"
      },
      "source": [
        "### Bài 4. Chuyển ký số sang số\n",
        "Nhập một chuỗi s là chuỗi biểu diễn ký tự số trong tiếng Anh gồm {zero, one, two, three, four, five, six, seven, eight, nine}. Hãy kiểm tra chuỗi nhập có hợp lệ không? Nếu hợp lệ thì in ra ký số của chuỗi đó và chuỗi ký số bên tiếng việt tương ứng.\n",
        "> Moi ban nhap chuoi ky so s: One <br/>\n",
        "> Chuoi vua nhap hop le!\n",
        "> \"One\" bieu dien so cho \"1\" va ung voi tieng Viet \"mot\".\n",
        "\n",
        "> Moi ban nhap chuoi ky so s: hello <br/>\n",
        "> Chuoi vua nhap khong hop le!"
      ]
    },
    {
      "cell_type": "code",
      "execution_count": 15,
      "id": "05d9f65b-4e99-4b6f-aba8-c285290b2c5e",
      "metadata": {
        "id": "05d9f65b-4e99-4b6f-aba8-c285290b2c5e",
        "outputId": "dd00ec8a-3bfe-4b81-f52c-64da45860e3d"
      },
      "outputs": [
        {
          "name": "stdout",
          "output_type": "stream",
          "text": [
            "Chuoi vua nhap hop le! \"TWO\" bieu dien so cho \"2\" va ung voi tieng Viet \"hai\".\n"
          ]
        }
      ],
      "source": [
        "s = input(\"Moi ban nhap chuoi ky so s: \")\n",
        "\n",
        "en  = [\"zero\", \"one\", \"two\", \"three\", \"four\", \"five\", \"six\", \"seven\", \"eight\", \"nine\"]\n",
        "vi  = [\"khong\", \"mot\", \"hai\", \"ba\", \"bon\", \"nam\", \"sau\", \"bay\", \"tam\", \"chin\"]\n",
        "num = [0, 1, 2, 3, 4, 5, 6, 7, 8, 9]\n",
        "\n",
        "s_lower = s.lower()\n",
        "if s_lower in en:\n",
        "    index = en.index(s_lower)\n",
        "    number = num[index]\n",
        "    vietnamese_name = vi[index]\n",
        "    print(f'Chuoi vua nhap hop le! \"{s}\" bieu dien so cho \"{number}\" va ung voi tieng Viet \"{vietnamese_name}\".')\n",
        "else:\n",
        "    # Xuất dữ liệu khi chuỗi không hợp lệ\n",
        "    print(\"Chuoi vua nhap khong hop le!\")"
      ]
    },
    {
      "cell_type": "markdown",
      "id": "35adaeca-5d98-44ee-8e80-bda70395f1a8",
      "metadata": {
        "id": "35adaeca-5d98-44ee-8e80-bda70395f1a8"
      },
      "source": [
        "## 3. Cấu trúc lặp"
      ]
    },
    {
      "cell_type": "markdown",
      "id": "6c087ac9-28da-4590-98f4-b1481da3582c",
      "metadata": {
        "id": "6c087ac9-28da-4590-98f4-b1481da3582c"
      },
      "source": [
        "### Bài 5. Tính tổng các số chẵn\n",
        "Nhập một số nguyên n. Hãy tính tổng các số chẵn từ 1 đến n.\n",
        "> Moi ban nhap so nguyen n: **100** <br>\n",
        "> Tong cac so chan tu 1 den **100** la **2550**."
      ]
    },
    {
      "cell_type": "code",
      "execution_count": 16,
      "id": "845506c4-f77f-4c2c-91b4-b34b33d6b2db",
      "metadata": {
        "id": "845506c4-f77f-4c2c-91b4-b34b33d6b2db",
        "outputId": "487e9a4f-b8f6-4321-bfab-8739828e566f"
      },
      "outputs": [
        {
          "name": "stdout",
          "output_type": "stream",
          "text": [
            "Tong cac so chan tu 1 den 100 la 2550.\n"
          ]
        }
      ],
      "source": [
        "# Nhập dữ liệu\n",
        "n   = int(input(\"Moi ban nhap so nguyen n: \"))\n",
        "\n",
        "# Xuất dữ liệu\n",
        "s   = 0\n",
        "for i in range(0,n+1,2):\n",
        "    s=s+i\n",
        "print(f'Tong cac so chan tu 1 den {n} la {s}.')"
      ]
    },
    {
      "cell_type": "markdown",
      "id": "2ec9b4d3-6c99-46d5-9520-f01bbc73b844",
      "metadata": {
        "id": "2ec9b4d3-6c99-46d5-9520-f01bbc73b844"
      },
      "source": [
        "### Bài 6. Kiểm tra số nguyên tố\n",
        "\n",
        "Nhập vào một số nguyên dương n. Hãy kiểm tra xem n có phải là nguyên tố không?\n",
        "> Moi nhap nhap so nguyen n: **10** <br/>\n",
        "> **10** khong phai la so nguyen to.\n",
        "\n",
        "> Moi nhap nhap so nguyen n: **97** <br/>\n",
        "> **97** la so nguyen to.\n",
        "\n",
        "**Lưu ý**: n là số nguyên tố khi và chỉ khi không tồn tại số nguyên từ $2$ đến $\\sqrt(n)$ mà chia hết cho n."
      ]
    },
    {
      "cell_type": "code",
      "execution_count": 18,
      "id": "c8ef7876-623d-4d8b-95be-87e26917b8d8",
      "metadata": {
        "id": "c8ef7876-623d-4d8b-95be-87e26917b8d8",
        "outputId": "a357b61e-1ff9-458d-a08d-27ade00816a5"
      },
      "outputs": [
        {
          "name": "stdout",
          "output_type": "stream",
          "text": [
            "97 la so nguyen to.\n"
          ]
        }
      ],
      "source": [
        "# Nhập dữ liệu\n",
        "n   = int(input(\"Moi ban nhap so nguyen n: \"))\n",
        "\n",
        "# Xử lý\n",
        "if n < 2:\n",
        "    lant = False\n",
        "else:\n",
        "    lant = True\n",
        "    limit = int(math.sqrt(n))\n",
        "    for i in range(2, limit + 1):\n",
        "        if n % i == 0:\n",
        "            lant = False\n",
        "            break\n",
        "\n",
        "# Xuất dữ liệu\n",
        "if lant == True:\n",
        "    print(f'{n} la so nguyen to.')\n",
        "else:\n",
        "    print(f'{n} khong la so nguyen to.')"
      ]
    },
    {
      "cell_type": "markdown",
      "id": "0c3feb44-c1e0-4666-8651-26ef140902dd",
      "metadata": {
        "id": "0c3feb44-c1e0-4666-8651-26ef140902dd"
      },
      "source": [
        "## 4. Xử lý ngoại lệ và hàm số"
      ]
    },
    {
      "cell_type": "markdown",
      "id": "31eff98b-ff44-455c-bbe5-7d0d073ebe16",
      "metadata": {
        "id": "31eff98b-ff44-455c-bbe5-7d0d073ebe16"
      },
      "source": [
        "### Bài 7. Giải phương trình bậc 2\n",
        "Nhập 3 số thực a, b, c (có kiểm tra dữ liệu nhập số thực). Hãy xây dựng hàm giải phương trình bậc 2 $ax^2+bx+c=0$ và in kết quả giải ra màn hình.\n",
        "> Moi ban nhap he so a, b, c:  **a b c**<br/>\n",
        "> Ban nhap sai! Moi ban nhap lai!<br/>\n",
        "> Moi ban nhap he so a, b, c:  **1 a 3**<br/>\n",
        "> Ban nhap sai! Moi ban nhap lai!<br/>\n",
        "> Moi ban nhap he so a, b, c: **1 5 6**<br/>\n",
        "> Phuong trinh bac 2 **1x^2 + 5x + 6 = 0** co **2**  nghiem x1 = **-2.00**, x2 = **-3.00**."
      ]
    },
    {
      "cell_type": "code",
      "execution_count": 20,
      "id": "93a46693",
      "metadata": {},
      "outputs": [
        {
          "name": "stdout",
          "output_type": "stream",
          "text": [
            "Ban nhap sai! He so phai la so thuc. Moi ban nhap lai!\n",
            "Ban nhap sai! He so phai la so thuc. Moi ban nhap lai!\n",
            "Phuong trinh 1.0x^2 + 5.0x + 6.0 = 0 co 2 nghiem x1 = -2.00, x2 = -3.00.\n"
          ]
        }
      ],
      "source": [
        "import math\n",
        "\n",
        "while True:\n",
        "    try:\n",
        "        # Nhập liệu 3 hệ số a, b, c cách nhau bởi dấu cách\n",
        "        input_str = input(\"Moi ban nhap he so a, b, c: \")\n",
        "        \n",
        "        # Tách chuỗi nhập thành các phần tử\n",
        "        parts = input_str.split()\n",
        "        \n",
        "        # Đảm bảo có đúng 3 giá trị\n",
        "        if len(parts) != 3:\n",
        "            print(\"Ban nhap sai! Vui long nhap dung 3 he so a, b, c cach nhau boi dau cach!\")\n",
        "            continue\n",
        "            \n",
        "        # Chuyển đổi sang float\n",
        "        a = float(parts[0])\n",
        "        b = float(parts[1])\n",
        "        c = float(parts[2])\n",
        "        \n",
        "        break  # Nhập thành công, thoát khỏi vòng lặp\n",
        "        \n",
        "    except ValueError:\n",
        "        print(\"Ban nhap sai! He so phai la so thuc. Moi ban nhap lai!\")\n",
        "        \n",
        "# Xử lý và giải phương trình\n",
        "s = f'Phuong trinh {a}x^2 + {b}x + {c} = 0'\n",
        "\n",
        "if a == 0:\n",
        "    # Nếu a = 0, chuyển thành phương trình bậc nhất: bx + c = 0\n",
        "    if b == 0:\n",
        "        if c == 0:\n",
        "            result = \"vo so nghiem\"\n",
        "        else:\n",
        "            result = \"vo nghiem\"\n",
        "    else:\n",
        "        x = -c / b\n",
        "        result = f\"co 1 nghiem x = {x:.2f}\"\n",
        "else:\n",
        "    # Trường hợp phương trình bậc 2\n",
        "    delta = b**2 - 4 * a * c\n",
        "    \n",
        "    if delta < 0:\n",
        "        result = \"vo nghiem\"\n",
        "    elif delta == 0:\n",
        "        x = -b / (2 * a)\n",
        "        result = f\"co 1 nghiem kep x1 = x2 = {x:.2f}\"\n",
        "    else:\n",
        "        x1 = (-b + math.sqrt(delta)) / (2 * a)\n",
        "        x2 = (-b - math.sqrt(delta)) / (2 * a)\n",
        "        result = f\"co 2 nghiem x1 = {x1:.2f}, x2 = {x2:.2f}\"\n",
        "\n",
        "# Xuất dữ liệu\n",
        "print(f'{s} {result}.')"
      ]
    },
    {
      "cell_type": "markdown",
      "id": "218d3938-7f4e-4097-a412-08c165ef910e",
      "metadata": {
        "id": "218d3938-7f4e-4097-a412-08c165ef910e"
      },
      "source": [
        "## 5. Dữ liệu nâng cao (List, Tuple, Set, Dictionary)"
      ]
    },
    {
      "cell_type": "markdown",
      "id": "e65d22f7-3801-40c4-af55-502bf5f61fb7",
      "metadata": {
        "id": "e65d22f7-3801-40c4-af55-502bf5f61fb7"
      },
      "source": [
        "### Bài 8. Các thao tác xử lý mảng số\n",
        "\n",
        "Viết chương trình xây dựng các hàm sau cho List và kiểm tra tính đúng đắn của các hàm số:\n",
        "+ Nhập một mảng số từ bàn phím cách nhau bởi khoảng trắng. Xuất mảng ra màn hình. <br/>\n",
        "+ Sinh một mảng số ngẫu nhiên có n phần tử trong khoảng a, b.\n",
        "+ Tính tổng của mảng số, đếm các phần tử chẵn, lẻ trong mảng.\n",
        "+ Cho một mảng số, hãy trả về dãy chẳn, dãy lẻ.\n",
        "\n",
        "> a = NhapMang() <br/>\n",
        "> XuatMang(a) <br/>\n",
        "> b = SinhNgauNhien(10, -10, 10) <br/>\n",
        "> XuatMang(b) <br/>\n",
        "> tong, chan, le = TinhTongChanLe(b) <br/>\n",
        "> a_chan, a_le = TimChanLe(b) <br/>"
      ]
    },
    {
      "cell_type": "code",
      "execution_count": 22,
      "id": "7f8ab987",
      "metadata": {},
      "outputs": [
        {
          "name": "stdout",
          "output_type": "stream",
          "text": [
            "\n",
            "--- Kiem tra NhapMang() ---\n",
            "Mang vua tao: [1, 4, 1, 2, 3, 4, 1, 2, 3, 3, 1, 2, 3, 4, 10, 2]\n",
            "\n",
            "--- Kiem tra SinhNgauNhien() ---\n",
            "Mang vua tao: [2, 10, 1, -4, -9, -7, 8, -8, -1, 10]\n",
            "\n",
            "--- Kiem tra TinhTongChanLe() ---\n",
            "Tong cac phan tu: 2\n",
            "So phan tu chan: 6\n",
            "So phan tu le: 4\n",
            "\n",
            "--- Kiem tra TimChanLe() ---\n",
            "Day chan:\n",
            "Mang vua tao: [2, 10, -4, 8, -8, 10]\n",
            "Day le:\n",
            "Mang vua tao: [1, -9, -7, -1]\n"
          ]
        }
      ],
      "source": [
        "import random\n",
        "\n",
        "def NhapMang():\n",
        "    while True:\n",
        "        try:\n",
        "            input_str = input(\"Nhap mot mang so (cach nhau boi khoang trang): \")\n",
        "            # Chuyển đổi chuỗi thành list các số (int)\n",
        "            mang = [int(x) for x in input_str.split()]\n",
        "            return mang\n",
        "        except ValueError:\n",
        "            print(\"Loi: Vui long chi nhap cac gia tri so nguyen.\")\n",
        "\n",
        "def XuatMang(mang):\n",
        "    print(f\"Mang vua tao: {mang}\")\n",
        "\n",
        "def SinhNgauNhien(n, a, b):\n",
        "    # n: số phần tử, a: cận dưới, b: cận trên\n",
        "    if n <= 0:\n",
        "        return []\n",
        "    # Dùng random.randint để sinh ra số nguyên ngẫu nhiên\n",
        "    mang = [random.randint(a, b) for _ in range(n)]\n",
        "    return mang\n",
        "\n",
        "def TinhTongChanLe(mang):\n",
        "    tong = 0\n",
        "    dem_chan = 0\n",
        "    dem_le = 0\n",
        "    \n",
        "    for x in mang:\n",
        "        tong += x\n",
        "        # Kiểm tra tính chẵn lẻ trực tiếp trên số nguyên x\n",
        "        if x % 2 == 0:\n",
        "            dem_chan += 1\n",
        "        else:\n",
        "            dem_le += 1\n",
        "            \n",
        "    return tong, dem_chan, dem_le\n",
        "\n",
        "def TimChanLe(mang):\n",
        "    day_chan = []\n",
        "    day_le = []\n",
        "    \n",
        "    for x in mang:\n",
        "        # Kiểm tra tính chẵn lẻ trực tiếp trên số nguyên x\n",
        "        if x % 2 == 0:\n",
        "            day_chan.append(x)\n",
        "        else:\n",
        "            day_le.append(x)\n",
        "            \n",
        "    return day_chan, day_le\n",
        "\n",
        "# KIỂM TRA TÍNH ĐÚNG ĐẮN CỦA CÁC HÀM SỐ (THEO MẪU)\n",
        "# 1. NhapMang()\n",
        "print(\"\\n--- Kiem tra NhapMang() ---\")\n",
        "# Thay đổi sang int() trong NhapMang() để khớp với yêu cầu số nguyên\n",
        "a = NhapMang()\n",
        "XuatMang(a)\n",
        "\n",
        "# 2. SinhNgauNhien()\n",
        "print(\"\\n--- Kiem tra SinhNgauNhien() ---\")\n",
        "# n=10, a=-10, b=10\n",
        "b = SinhNgauNhien(10, -10, 10)\n",
        "XuatMang(b)\n",
        "\n",
        "# 3. TinhTongChanLe()\n",
        "print(\"\\n--- Kiem tra TinhTongChanLe() ---\")\n",
        "tong, dem_chan, dem_le = TinhTongChanLe(b)\n",
        "print(f\"Tong cac phan tu: {tong}\")\n",
        "print(f\"So phan tu chan: {dem_chan}\")\n",
        "print(f\"So phan tu le: {dem_le}\")\n",
        "\n",
        "# 4. TimChanLe()\n",
        "print(\"\\n--- Kiem tra TimChanLe() ---\")\n",
        "a_chan, a_le = TimChanLe(b)\n",
        "print(\"Day chan:\")\n",
        "XuatMang(a_chan)\n",
        "print(\"Day le:\")\n",
        "XuatMang(a_le)"
      ]
    },
    {
      "cell_type": "markdown",
      "id": "7c5fdb97-5b63-415f-84fc-1edd4fdce982",
      "metadata": {
        "id": "7c5fdb97-5b63-415f-84fc-1edd4fdce982"
      },
      "source": [
        "### Bài 9. Các thao tác trên tập hợp, từ điển\n",
        "\n",
        "Viết chương trình nhập vào một dãy ký tự a cách nhau bởi khoảng trắng. Hãy thực hiện:\n",
        "+ In các ký tự trong a không trùng nhau và được sắp theo thứ tự tăng dần\n",
        "+ Đếm số lần xuất hiện các ký tự trong dãy a\n"
      ]
    },
    {
      "cell_type": "code",
      "execution_count": 23,
      "id": "235695e6-a3de-4bfb-a432-6ab086836877",
      "metadata": {
        "id": "235695e6-a3de-4bfb-a432-6ab086836877",
        "outputId": "30580b18-d415-4397-ac37-bb9600caff58"
      },
      "outputs": [
        {
          "name": "stdout",
          "output_type": "stream",
          "text": [
            "Cac ky tu khong trung nhau va duoc sap xep: ['A', 'C', 'F', 'G', 'H', 'T']\n",
            "So lan xuat hien cua cac ky tu:\n",
            "Ky tu 'A' xuat hien 2 lan.\n",
            "Ky tu 'C' xuat hien 2 lan.\n",
            "Ky tu 'F' xuat hien 2 lan.\n",
            "Ky tu 'G' xuat hien 1 lan.\n",
            "Ky tu 'H' xuat hien 1 lan.\n",
            "Ky tu 'T' xuat hien 1 lan.\n"
          ]
        }
      ],
      "source": [
        "# Nhập dữ liệu\n",
        "input_str = input(\"Nhap vao mot day ky tu (cach nhau boi khoang trang): \")\n",
        "\n",
        "# 1. Xử lý chuỗi nhập: Chuyển chuỗi thành danh sách các ký tự\n",
        "# Loại bỏ khoảng trắng và tạo danh sách các ký tự\n",
        "char_list = input_str.split()\n",
        "\n",
        "# 2. In các ký tự không trùng nhau và được sắp xếp theo thứ tự tăng dần\n",
        "unique_sorted_chars = sorted(list(set(char_list)))\n",
        "print(f\"Cac ky tu khong trung nhau va duoc sap xep: {unique_sorted_chars}\")\n",
        "\n",
        "# 3. Đếm số lần xuất hiện các ký tự (sử dụng Dictionary)\n",
        "char_counts = {}\n",
        "for char in char_list:\n",
        "    if char in char_counts:\n",
        "        char_counts[char] += 1\n",
        "    else:\n",
        "        char_counts[char] = 1\n",
        "\n",
        "print(\"So lan xuat hien cua cac ky tu:\")\n",
        "# In ra theo thứ tự của các ký tự đã sắp xếp ở bước 2\n",
        "for char in unique_sorted_chars:\n",
        "    print(f\"Ky tu '{char}' xuat hien {char_counts[char]} lan.\")"
      ]
    },
    {
      "cell_type": "markdown",
      "id": "a9c840d7-09b9-47fe-8422-2131838da3a5",
      "metadata": {
        "id": "a9c840d7-09b9-47fe-8422-2131838da3a5"
      },
      "source": [
        "# Kết thúc"
      ]
    }
  ],
  "metadata": {
    "colab": {
      "provenance": []
    },
    "kernelspec": {
      "display_name": "Python 3",
      "language": "python",
      "name": "python3"
    },
    "language_info": {
      "codemirror_mode": {
        "name": "ipython",
        "version": 3
      },
      "file_extension": ".py",
      "mimetype": "text/x-python",
      "name": "python",
      "nbconvert_exporter": "python",
      "pygments_lexer": "ipython3",
      "version": "3.13.7"
    }
  },
  "nbformat": 4,
  "nbformat_minor": 5
}
